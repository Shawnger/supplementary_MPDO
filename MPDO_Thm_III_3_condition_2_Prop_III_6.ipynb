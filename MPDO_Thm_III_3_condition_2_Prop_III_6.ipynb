{
 "cells": [
  {
   "cell_type": "code",
   "execution_count": 2,
   "metadata": {},
   "outputs": [],
   "source": [
    "# This is a supplement to arxiv:2010.14682v1, \n",
    "# ``Matrix Product Density Operators: when do they have a local parent Hamiltonian?''. \n",
    "\n",
    "# This code implements Proposition III.6, checking whether Condition 2 of Theorem III.3 holds for \n",
    "# Kraus operators arising from the measured MPDO at fig. 2 Bottom. \n",
    "# There has been no exceptions so far up to d~8, i.e. each instance would have exponential decaying CMI. \n",
    "# One can also check for arbitary family of MPDOs, given the Kraus operators.\n",
    "# dated: Nov 25, 2020\n",
    "#-----------------\n",
    "\n",
    "import numpy as np\n",
    "from scipy.stats import unitary_group\n",
    "\n",
    "def rank_set_vec(set_vec):# get rank of a set of vectors. There is a tolerance for numerical error.\n",
    "    s = np.linalg.svd(set_vec)[1]\n",
    "    TOLERANCE = 1e-10\n",
    "\n",
    "    return np.sum(s > TOLERANCE)\n",
    "def rank_set_m(set_m): # tranform set of matrices to vectors, and call rank_set_vec.\n",
    "    set_vec = np.zeros((len(set_m),d**2))\n",
    "    for i in range(0,len(set_m)):\n",
    "        set_vec[i]=np.reshape(set_m[i], d**2)\n",
    "        \n",
    "    return rank_set_vec(set_vec)\n",
    "\n",
    "def rank_of_algebra_generated_by(set_m): # check whether the input set of Kraus operators (set_m) satisfy Condition 2.\n",
    "    u = set_m[0]\n",
    "    set_u = np.array([u])\n",
    "    while(1):# with set of matrices u in set_u, multiply m in set_m to get a larger span. \n",
    "        rank0=rank_set_m(set_u)\n",
    "        for m in set_m:\n",
    "            temp = set_u\n",
    "            for u in set_u:\n",
    "                temp1 = np.concatenate((temp,[np.matmul(m,u)]),axis =0)\n",
    "                if(rank_set_m(temp1)>rank_set_m(temp)):\n",
    "                    temp = temp1\n",
    "            set_u = temp\n",
    "        if (rank0 == rank_set_m(set_u)): #Halt when the dimension of space stop increasing.\n",
    "            return rank0\n",
    "      \n",
    "     \n",
    "    \n",
    "def tensor_from_unitary(u,d): # Kraus operators arising from haar random unitary U_{as,ij}. a is traced out, s is the measurement outcomes.\n",
    "    E = np.zeros((d,d,d,d), dtype = complex)\n",
    "    m = np.zeros((d-1,d,d,d), dtype = complex)\n",
    "    for a in range (0,d):\n",
    "        for s in range (0,d):\n",
    "            for i in range (0,d):\n",
    "                for j in range (0,d):\n",
    "                    E[a][s][i][j] = u[a*d + s][i*d +j]\n",
    "    for q in range (0,d-1):\n",
    "        for s in range (0,d):\n",
    "                    m[q][s] = np.linalg.inv(E[0][s]).dot( E[q+1][s])\n",
    "    return m\n"
   ]
  },
  {
   "cell_type": "code",
   "execution_count": 3,
   "metadata": {},
   "outputs": [
    {
     "name": "stderr",
     "output_type": "stream",
     "text": [
      "/anaconda3/lib/python3.6/site-packages/ipykernel_launcher.py:22: ComplexWarning: Casting complex values to real discards the imaginary part\n"
     ]
    },
    {
     "name": "stdout",
     "output_type": "stream",
     "text": [
      "16\n",
      "16\n",
      "16\n",
      "16\n",
      "16\n",
      "16\n",
      "16\n",
      "16\n",
      "16\n",
      "16\n",
      "16\n",
      "16\n",
      "16\n",
      "16\n",
      "16\n",
      "16\n",
      "16\n",
      "16\n",
      "16\n",
      "16\n",
      "16\n",
      "16\n",
      "16\n",
      "16\n",
      "16\n",
      "16\n",
      "16\n",
      "16\n",
      "16\n",
      "16\n",
      "16\n",
      "16\n",
      "16\n",
      "16\n",
      "16\n",
      "16\n",
      "16\n",
      "16\n",
      "16\n",
      "16\n"
     ]
    }
   ],
   "source": [
    "d=4\n",
    "for i in range(0,10):\n",
    "    m=tensor_from_unitary(unitary_group.rvs(d**2),d)\n",
    "    for s in range(0,d):\n",
    "        print(rank_of_algebra_generated_by(m[:,s,:,:]) )\n",
    "# we ran this up to d=8, and no exception on Condition 2 was found."
   ]
  },
  {
   "cell_type": "code",
   "execution_count": 4,
   "metadata": {},
   "outputs": [
    {
     "name": "stdout",
     "output_type": "stream",
     "text": [
      "25\n"
     ]
    }
   ],
   "source": [
    "# sanity check: k>1 random matrices would generate full matrix algebra.\n",
    "d=5\n",
    "k=2\n",
    "set_m = [np.random.randn(d, d) for _ in range(k)]\n",
    "print(rank_of_algebra_generated_by(set_m))"
   ]
  }
 ],
 "metadata": {
  "kernelspec": {
   "display_name": "Python 3",
   "language": "python",
   "name": "python3"
  },
  "language_info": {
   "codemirror_mode": {
    "name": "ipython",
    "version": 3
   },
   "file_extension": ".py",
   "mimetype": "text/x-python",
   "name": "python",
   "nbconvert_exporter": "python",
   "pygments_lexer": "ipython3",
   "version": "3.6.4"
  }
 },
 "nbformat": 4,
 "nbformat_minor": 2
}
